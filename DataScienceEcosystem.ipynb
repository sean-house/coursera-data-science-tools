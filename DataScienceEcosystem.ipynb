{
 "cells": [
  {
   "cell_type": "markdown",
   "id": "843cd8e7-f0f5-4319-8039-e7c2c9b25d85",
   "metadata": {},
   "source": [
    "# Data Science Tools and Ecosystem"
   ]
  },
  {
   "cell_type": "markdown",
   "id": "82f1b366-41af-4032-a24c-c2c5d074b000",
   "metadata": {},
   "source": [
    "In this notebook, Data Science Tools and REcosystem are summarized"
   ]
  },
  {
   "cell_type": "markdown",
   "id": "c08ec03b-65c6-4ee2-98e5-af2780d50c68",
   "metadata": {},
   "source": [
    "Objectives:\n",
    "- List popular DS languages\n",
    "- List common used libraries\n",
    "- Provide a table of commonly used tools\n",
    "- Demonstrate a code cell with artithmetic\n",
    "- Demonstrate a code cell with comments"
   ]
  },
  {
   "cell_type": "markdown",
   "id": "52743d00-554c-43f1-b217-5de52b5e089d",
   "metadata": {},
   "source": [
    "Some of the popular languages that Data Scientists use are:\n",
    "1. Python\n",
    "1. R\n",
    "1. SQL"
   ]
  },
  {
   "cell_type": "markdown",
   "id": "4e3a6456-c525-45cb-a344-201f111b4905",
   "metadata": {},
   "source": [
    "Some of the commonly used libraries used by Data Scientists include:\n",
    "1. scikit-learn\n",
    "1. Pandas\n",
    "1. numpy"
   ]
  },
  {
   "cell_type": "markdown",
   "id": "4586f5ed-facb-4aba-91bc-b510c3d34ffb",
   "metadata": {},
   "source": [
    "| Data Science Tools |\n",
    "| --- |\n",
    "| Jupyter Notebooks |\n",
    "| R Studio |\n",
    "|Apache Zeppelin |"
   ]
  },
  {
   "cell_type": "markdown",
   "id": "ad0a8b7e-941c-4cb4-a155-0ac21b535216",
   "metadata": {},
   "source": [
    "### Below are a few examples of evaluating arithmetic expressions in Python"
   ]
  },
  {
   "cell_type": "code",
   "execution_count": 1,
   "id": "ca2bbafc-f367-4995-9c64-9c2b5a6af7cf",
   "metadata": {},
   "outputs": [
    {
     "data": {
      "text/plain": [
       "17"
      ]
     },
     "execution_count": 1,
     "metadata": {},
     "output_type": "execute_result"
    }
   ],
   "source": [
    "(3*4)+5"
   ]
  },
  {
   "cell_type": "code",
   "execution_count": 2,
   "id": "025124ea-8415-4b0e-b812-5de343ff7b1a",
   "metadata": {},
   "outputs": [
    {
     "data": {
      "text/plain": [
       "3.3333333333333335"
      ]
     },
     "execution_count": 2,
     "metadata": {},
     "output_type": "execute_result"
    }
   ],
   "source": [
    "# This will convert 200m minutes to hours by dividing by 60\n",
    "200/60"
   ]
  },
  {
   "cell_type": "markdown",
   "id": "0f9031e1-2450-4499-aeaa-5255dc5e9f65",
   "metadata": {},
   "source": []
  }
 ],
 "metadata": {
  "kernelspec": {
   "display_name": "Python 3 (ipykernel)",
   "language": "python",
   "name": "python3"
  },
  "language_info": {
   "codemirror_mode": {
    "name": "ipython",
    "version": 3
   },
   "file_extension": ".py",
   "mimetype": "text/x-python",
   "name": "python",
   "nbconvert_exporter": "python",
   "pygments_lexer": "ipython3",
   "version": "3.10.4"
  }
 },
 "nbformat": 4,
 "nbformat_minor": 5
}
